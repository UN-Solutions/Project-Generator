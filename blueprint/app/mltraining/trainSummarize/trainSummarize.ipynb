{
 "cells": [
  {
   "cell_type": "code",
   "execution_count": 1,
   "metadata": {},
   "outputs": [
    {
     "name": "stdout",
     "output_type": "stream",
     "text": [
      "hello world\n"
     ]
    }
   ],
   "source": [
    "# trainSummarize\n",
    "## In this module the task is to be able to train a model to intake a body of text and summarize it to a three to four sentence paragraph wile utilizing Machine Learning"
   ]
  }
 ],
 "metadata": {
  "kernelspec": {
   "display_name": "seniorProj",
   "language": "python",
   "name": "python3"
  },
  "language_info": {
   "codemirror_mode": {
    "name": "ipython",
    "version": 3
   },
   "file_extension": ".py",
   "mimetype": "text/x-python",
   "name": "python",
   "nbconvert_exporter": "python",
   "pygments_lexer": "ipython3",
   "version": "3.10.9"
  },
  "orig_nbformat": 4,
  "vscode": {
   "interpreter": {
    "hash": "9bf17df204628c51632426376dd61b56570ce784b95f2af6d551df4d02b20d27"
   }
  }
 },
 "nbformat": 4,
 "nbformat_minor": 2
}
