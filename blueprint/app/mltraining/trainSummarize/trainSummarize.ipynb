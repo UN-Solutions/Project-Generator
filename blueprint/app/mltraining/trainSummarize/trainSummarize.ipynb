{
 "cells": [
  {
   "attachments": {},
   "cell_type": "markdown",
   "metadata": {},
   "source": [
    "# trainSummarize\n",
    "## In this module the task is to be able to train a model to intake a body of text and summarize it to a three to four sentence paragraph wile utilizing Machine Learning"
   ]
  },
  {
   "cell_type": "code",
   "execution_count": null,
   "metadata": {},
   "outputs": [],
   "source": [
    "#loading in packages to initilize initial training data\n",
    "import torch\n",
    "import random \n",
    "import matplotlib\n",
    "\n",
    "import torch.nn as nn\n",
    "import torch.nn.functional as F\n",
    "import torch.optim as optim\n",
    "import pandas as pd\n",
    "import numpy as np\n",
    "import matplotlib.pyplot as plt\n",
    "#from tqdm import notebook\n",
    "from torch.utils.data import Dataset, DataLoader"
   ]
  },
  {
   "cell_type": "code",
   "execution_count": null,
   "metadata": {},
   "outputs": [],
   "source": [
    "print(\"hello world\")"
   ]
  },
  {
   "attachments": {},
   "cell_type": "markdown",
   "metadata": {},
   "source": [
    "# Test code"
   ]
  },
  {
   "cell_type": "code",
   "execution_count": 1,
   "metadata": {},
   "outputs": [],
   "source": [
    "from happytransformer import HappyTextToText"
   ]
  },
  {
   "cell_type": "code",
   "execution_count": 2,
   "metadata": {},
   "outputs": [
    {
     "name": "stderr",
     "output_type": "stream",
     "text": [
      "02/24/2023 13:51:16 - INFO - happytransformer.happy_transformer -   Using model: cpu\n"
     ]
    }
   ],
   "source": [
    "happy_tt = HappyTextToText(\"DISTILBART\",\"sshleifer/distilbart-cnn-12-6\")"
   ]
  },
  {
   "cell_type": "code",
   "execution_count": 6,
   "metadata": {},
   "outputs": [
    {
     "name": "stdout",
     "output_type": "stream",
     "text": [
      "Judgment of a Tragedy: Romeo and Juliet\n",
      "\n",
      "Romeo and Juliet by William Shakespeare is the story of young lovers trying their best to live a happy life but can’t since they come from opposite families being the Montague and Capulet. During their trying to be together they end up knowing the only way to stay together was to take both their lives, but to who is to blame? The Capulet family or the Montague family was Friar Lawrence’s vial defective, is he to blame? But the one to blame for Romeo and Juliet’s death is no one other than Romeo and Juliet’s own ignorant actions because one the fact that both Romeo and Juliet are young teenagers with little to no experience, two they are too hasty during the story their love went by too fast, three they are to blind to find a breakeven solution and decide to go against everything they were raised for. So was it really their parents fault? Was it the family feud?  Friar Lawrence? No Romeo and Juliet died by their own actions it was an option to die no forced upon, they died by their own hands and no other is to be blamed.\n",
      "\n",
      "In Romeo and Juliet if you paid attention to the story you should have noticed that the couple is young with little knowledge of the world around them so should believe that their decisions are the logical solutions? During the story when Paris is asking for Capulet’s daughter for marriage Capulet admits, “My child is yet a stranger in the world. She hath not seen the change of fourteen years” in modern language, Juliet is 13 and is still figuring out the world, she is 13 and Romeo 16, a young couple without much experience in the love category. Beginning in the book you read that Romeo has never been in a relationship so when meeting Juliet he suddenly knows everything about love? Juliet is the same and as far as we know she had not even loved yet, both individuals have yet to meet other people but decide they are the ones out of thousands of people. The book says in the beginning that Romeo has one true love being a girl wanting to be a nun and brags about her beauty in less then a second of seeing Juliet he loves not the other girl but Juliet how is that logical from loving one to another but you can't blame the 16 year old's intentions. The couple are young and needed more time to learn about life but they decided to end it.\n",
      "\n",
      "Has a connection to my last reasoning the couple's young minds make mistakes, a major one being their hasty love. The book states that after one day no less than a day Romeo decides he is in love and will marry Juliet after ONE DANCE they did not even think to have a date to know each other. Know whether it is true Romeo and Juliet are left alone after their wedding night remember Juliet is 13 years of age there love goes way too fast and should consider to take their time. In the end Romeo instead of waiting he just kills himself in a matter of minutes so does Juliet if it was not for Friar lawrence and Nurse she without a thought took herself out.\n",
      "\n",
      "The biggest reason for their death is that Romeo and Juliet were too \"in love\" they were too blind to see the road. Lets start with the couple's wedding, they rejected Friar Lawrence's advice to not marry, during that time period saying no to the church was looked down upon, yet they continued with the wedding. After the wedding Romeo got in the dilemma with his dead cousin and kills Tybalt, upon this he can't see that both cousin's death was for their love yet he continues to see Juliet. And the end Romeo was so hasty and too blind to wait or question Juliet's death blinding his brain that she have to died by something else but no along with his mistakes he drinks the poison and lies dead, while resurrected Juliet finds him dead yet given the chance to redeem herself she takes the grave.\n",
      "\n",
      "Romeo and Juliet by William Shakespeare is the story of young lovers trying their best to live a happy life but can’t since they come from opposite families being the Montague and Capulet. The judgement of Romeo and Juliets death was not the Montegues fault, not the Capulets, or the priest, neither the nurse, but Romeo and Juliet. Romeo and Juliet. are to blame for being young, hasty,  and blinded by love all just ignorant actions. The moral of the story love had it's challenges but don't rush them.\n",
      "\n",
      "\n"
     ]
    }
   ],
   "source": [
    "path='/home/migui/school/spring23/seniorXp/project/Project-Generator/data/sampleTexts/MSalvador_FinalPromptAssesment.txt'\n",
    "#path = 'MSalvador_FinalPromptAssesment.txt'\n",
    "with open (path, 'r') as f:\n",
    "    sampleText = f.read()\n",
    "    f.close()\n",
    "\n",
    "print(sampleText)"
   ]
  },
  {
   "cell_type": "code",
   "execution_count": 4,
   "metadata": {},
   "outputs": [
    {
     "name": "stdout",
     "output_type": "stream",
     "text": [
      "TextToTextResult(text=\" The judgement of Romeo and Juliet's death was not the Monteguests, the nurse, or the priest, or the nurse, but Romeo and Juliet are just ignorant for being young, hasty, and all blame all of them\")\n"
     ]
    }
   ],
   "source": [
    "transformerSampletext= happy_tt.generate_text(sampleText)\n",
    "print(transformerSampletext)"
   ]
  },
  {
   "cell_type": "code",
   "execution_count": 5,
   "metadata": {},
   "outputs": [
    {
     "name": "stdout",
     "output_type": "stream",
     "text": [
      " The judgement of Romeo and Juliet's death was not the Monteguests, the nurse, or the priest, or the nurse, but Romeo and Juliet are just ignorant for being young, hasty, and all blame all of them\n"
     ]
    }
   ],
   "source": [
    "print(transformerSampletext.text)"
   ]
  }
 ],
 "metadata": {
  "kernelspec": {
   "display_name": "seniorProj",
   "language": "python",
   "name": "python3"
  },
  "language_info": {
   "codemirror_mode": {
    "name": "ipython",
    "version": 3
   },
   "file_extension": ".py",
   "mimetype": "text/x-python",
   "name": "python",
   "nbconvert_exporter": "python",
   "pygments_lexer": "ipython3",
   "version": "3.10.9"
  },
  "orig_nbformat": 4,
  "vscode": {
   "interpreter": {
    "hash": "9bf17df204628c51632426376dd61b56570ce784b95f2af6d551df4d02b20d27"
   }
  }
 },
 "nbformat": 4,
 "nbformat_minor": 2
}
